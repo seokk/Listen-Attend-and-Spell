{
 "cells": [
  {
   "cell_type": "code",
   "execution_count": 1,
   "metadata": {},
   "outputs": [
    {
     "ename": "ModuleNotFoundError",
     "evalue": "No module named 'util'",
     "output_type": "error",
     "traceback": [
      "\u001b[1;31m---------------------------------------------------------------------------\u001b[0m",
      "\u001b[1;31mModuleNotFoundError\u001b[0m                       Traceback (most recent call last)",
      "\u001b[1;32m<ipython-input-1-27eaa07d30dc>\u001b[0m in \u001b[0;36m<module>\u001b[1;34m()\u001b[0m\n\u001b[0;32m      9\u001b[0m \u001b[1;32mfrom\u001b[0m \u001b[0mtorch\u001b[0m\u001b[1;33m.\u001b[0m\u001b[0mdistributions\u001b[0m\u001b[1;33m.\u001b[0m\u001b[0mcategorical\u001b[0m \u001b[1;32mimport\u001b[0m \u001b[0mCategorical\u001b[0m\u001b[1;33m\u001b[0m\u001b[0m\n\u001b[0;32m     10\u001b[0m \u001b[1;33m\u001b[0m\u001b[0m\n\u001b[1;32m---> 11\u001b[1;33m \u001b[1;32mfrom\u001b[0m \u001b[0mutil\u001b[0m\u001b[1;33m.\u001b[0m\u001b[0mfunctions\u001b[0m \u001b[1;32mimport\u001b[0m \u001b[0mTimeDistributed\u001b[0m\u001b[1;33m,\u001b[0m\u001b[0mCreateOnehotVariable\u001b[0m\u001b[1;33m\u001b[0m\u001b[0m\n\u001b[0m\u001b[0;32m     12\u001b[0m \u001b[1;32mimport\u001b[0m \u001b[0mnumpy\u001b[0m \u001b[1;32mas\u001b[0m \u001b[0mnp\u001b[0m\u001b[1;33m\u001b[0m\u001b[0m\n",
      "\u001b[1;31mModuleNotFoundError\u001b[0m: No module named 'util'"
     ]
    }
   ],
   "source": [
    "import torch\n",
    "if torch.cuda.is_available():\n",
    "    import torch.cuda as device\n",
    "else:\n",
    "    import torch as device\n",
    "from torch.autograd import Variable    \n",
    "import torch.nn as nn\n",
    "import torch.nn.functional as F\n",
    "from torch.distributions.categorical import Categorical\n",
    "\n",
    "from util.functions import TimeDistributed,CreateOnehotVariable\n",
    "import numpy as np"
   ]
  },
  {
   "cell_type": "code",
   "execution_count": null,
   "metadata": {
    "collapsed": true
   },
   "outputs": [],
   "source": [
    "# BLSTM layer for pBLSTM\n",
    "# Step 1. Reduce time resolution to half\n",
    "# Step 2. Run through BLSTM\n",
    "# Note the input should have timestep%2 == 0\n",
    "class pBLSTMLayer(nn.Module):\n",
    "    def __init__(self,input_feature_dim,hidden_dim, rnn_unit='LSTM',dropout_rate=0.0):\n",
    "        super(pBLSTMLayer, self).__init__()\n",
    "        self.rnn_unit = getattr(nn, rnn_unit.upper())\n",
    "        # feature dimension will be doubled since time resolution reduction\n",
    "        self.BLSTM = self.rnn_unit(input_feature_dim * 2, hidden_dim, 1, bidirectional=True, \n",
    "                                   dropout=dropout_rate,batch_first=True)\n",
    "    \n",
    "    def forward(self,input_x):\n",
    "        batch_size = input_x.size(0)\n",
    "        timestep = input_x.size(1)\n",
    "        feature_dim = input_x.size(2)\n",
    "        # Reduce time resolution\n",
    "        input_x = input_x.contiguous().view(batch_size,int(timestep/2),feature_dim*2)\n",
    "        # Bidirectional RNN\n",
    "        output,hidden = self.BLSTM(input_x)\n",
    "        return output,hidden"
   ]
  }
 ],
 "metadata": {
  "kernelspec": {
   "display_name": "Python 3",
   "language": "python",
   "name": "python3"
  },
  "language_info": {
   "codemirror_mode": {
    "name": "ipython",
    "version": 3
   },
   "file_extension": ".py",
   "mimetype": "text/x-python",
   "name": "python",
   "nbconvert_exporter": "python",
   "pygments_lexer": "ipython3",
   "version": "3.6.3"
  }
 },
 "nbformat": 4,
 "nbformat_minor": 2
}
